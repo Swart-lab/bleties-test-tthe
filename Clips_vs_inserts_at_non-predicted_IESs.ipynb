{
 "cells": [
  {
   "cell_type": "markdown",
   "metadata": {},
   "source": [
    "# Clips vs. inserts at non-predicted IESs\n",
    "\n",
    "Run this notebook after `Compare_BleTIES_PacBio_Nanopore_predictions.ipynb`\n",
    "\n",
    "Only about 2/3 of published IESs were recovered by BleTIES.\n",
    "\n",
    "What is the reason for remainder not to be predicted?\n",
    "\n",
    "Our hypothesis is that there were insufficient reads sufficiently long to span these IESs, because they were on average longer than those that were successfully reconstructed.\n",
    "\n",
    "However it is also possible that there was an error in the transfer of IES annotations from the MIC to the MAC assembly coordinates, or that the previous IES predictions were also erroneous.\n",
    "\n",
    "To verify this, we check for read clips vs. inserts reported by the assembler in the vicinity of the published IES coordinates. If the IESs are indeed present, then the mapper should report clips and (long) inserts. If the IES is present but not predicted, then there should be clips reported, but few or no inserts (insufficient for BleTIES to assemble the IES).\n",
    "\n",
    "Set cutoff 100 bp for minimum insert length to consider. Count inserts and read clips within +/- 10 bp of the reported IES position."
   ]
  },
  {
   "cell_type": "code",
   "execution_count": 257,
   "metadata": {},
   "outputs": [],
   "source": [
    "import pybedtools as pbt\n",
    "import pysam\n",
    "from collections import defaultdict\n",
    "import seaborn as sns\n",
    "import matplotlib.pyplot as plt\n",
    "import pandas as pd"
   ]
  },
  {
   "cell_type": "code",
   "execution_count": 8,
   "metadata": {},
   "outputs": [
    {
     "name": "stdout",
     "output_type": "stream",
     "text": [
      "chr1\tdefault internal_eliminated_sequence\t\t1\t36321999\t.\t.\t.\tID=chr1\n",
      "chr2\tdefault internal_eliminated_sequence\t\t1\t25514825\t.\t.\t.\tID=chr2\n",
      "chr3\tdefault internal_eliminated_sequence\t\t1\t31519109\t.\t.\t.\tID=chr3\n",
      "chr4\tdefault internal_eliminated_sequence\t\t1\t31711232\t.\t.\t.\tID=chr4\n",
      "chr5\tdefault internal_eliminated_sequence\t\t1\t27466554\t.\t.\t.\tID=chr5\t\n",
      "chr1\tdefault\tinternal_eliminated_sequence\t29184\t32709\t.\t.\t.\tID=IES-04625-r7\n",
      "chr1\tdefault\tinternal_eliminated_sequence\t62449\t66339\t.\t.\t.\tID=IES-04624-r11\n",
      "chr1\tdefault\tinternal_eliminated_sequence\t100523\t102612\t.\t.\t.\tID=IES-05548-r12\n",
      "chr1\tdefault\tinternal_eliminated_sequence\t110532\t115929\t.\t.\t.\tID=IES-05549-r13\n",
      "chr1\tdefault\tinternal_eliminated_sequence\t122263\t126432\t.\t.\t.\tID=IES-05550-r10\n"
     ]
    }
   ],
   "source": [
    "%%bash\n",
    "head ref/mic/mic.ies.gff"
   ]
  },
  {
   "cell_type": "code",
   "execution_count": 12,
   "metadata": {},
   "outputs": [
    {
     "name": "stdout",
     "output_type": "stream",
     "text": [
      "chr_023\t29596\t29596\tIES-04625-r7\n",
      "chr_023\t3324\t3324\tIES-04624-r11\n",
      "chr_001\t1449001\t1449001\tIES-05548-r12\n",
      "chr_001\t1444281\t1444281\tIES-05549-r13\n",
      "chr_001\t1437950\t1437950\tIES-05550-r10\n",
      "chr_001\t1431842\t1431842\tIES-05551-r6\n",
      "chr_001\t1426737\t1426737\tIES-05552-r11\n",
      "chr_001\t1425136\t1425136\tIES-05553-r18\n",
      "chr_001\t1417368\t1417368\tIES-03245-r7\n",
      "chr_001\t1390424\t1390424\tIES-03244-r16\n"
     ]
    }
   ],
   "source": [
    "%%bash\n",
    "head ref/mic/ies_relative_to_mac.bed"
   ]
  },
  {
   "cell_type": "markdown",
   "metadata": {},
   "source": [
    "## Load IES predictions and mapping data"
   ]
  },
  {
   "cell_type": "code",
   "execution_count": 18,
   "metadata": {},
   "outputs": [],
   "source": [
    "# IES coordinates relative to MAC genome\n",
    "iesmacbed = pbt.BedTool('ref/mic/ies_relative_to_mac.bed')"
   ]
  },
  {
   "cell_type": "code",
   "execution_count": 93,
   "metadata": {},
   "outputs": [],
   "source": [
    "# PacBio data\n",
    "\n",
    "# BleTIES PacBio IES predictions\n",
    "bleties_pb = pbt.BedTool('tthe_pb_clr.milraa_subreads.comb.milraa_ies.gff3')\n",
    "# Load alignment MIC->MAC PacBio reads alignment file\n",
    "map_pb = pysam.AlignmentFile('mapping_pb/pb_subreads.Tthe_MAC_upd.minimap.sort.bam', 'rb')\n",
    "\n",
    "# Find published IESs with BleTIES predictions within 10 bp\n",
    "recovered_ies_pb = []\n",
    "maxdist = 20\n",
    "#for i in iesmacbed.filter(lambda x: x.chrom == 'chr_023').sort().closest(bleties_pb):\n",
    "for i in iesmacbed.sort().closest(bleties_pb):\n",
    "    dist = abs(int(i.fields[7]) - i.start)\n",
    "    if dist < maxdist:\n",
    "        recovered_ies_pb.append(i.name)\n",
    "        #print(\" \".join([str(dist), i.fields[0], i.fields[1], i.fields[3], i.fields[7]]))"
   ]
  },
  {
   "cell_type": "code",
   "execution_count": 226,
   "metadata": {},
   "outputs": [],
   "source": [
    "# Nanopore Data\n",
    "\n",
    "# BleTIES IES predictions\n",
    "bleties_ont = pbt.BedTool('tthe_ont.milraa_subreads.comb.milraa_ies.gff3')\n",
    "# Load alignment MIC->MAC Nanopore reads alignment file\n",
    "map_ont = pysam.AlignmentFile('mapping_ont/ont.Tthe_MAC_upd.minimap.sort.bam', 'rb')\n",
    "\n",
    "# Find published IESs with BleTIES predictions within 10 bp\n",
    "recovered_ies_ont = []\n",
    "maxdist = 20\n",
    "for i in iesmacbed.sort().closest(bleties_ont):\n",
    "    dist = abs(int(i.fields[7]) - i.start)\n",
    "    if dist < maxdist:\n",
    "        recovered_ies_ont.append(i.name)"
   ]
  },
  {
   "cell_type": "markdown",
   "metadata": {},
   "source": [
    "## Count clips and inserts"
   ]
  },
  {
   "cell_type": "markdown",
   "metadata": {},
   "source": [
    "Reminder: cigartuples are (op, length)\n",
    "\n",
    "```\n",
    "M \tBAM_CMATCH \t0\n",
    "I \tBAM_CINS \t1\n",
    "D \tBAM_CDEL \t2\n",
    "N \tBAM_CREF_SKIP \t3\n",
    "S \tBAM_CSOFT_CLIP \t4\n",
    "H \tBAM_CHARD_CLIP \t5\n",
    "P \tBAM_CPAD \t6\n",
    "= \tBAM_CEQUAL \t7\n",
    "X \tBAM_CDIFF \t8\n",
    "B \tBAM_CBACK \t9\n",
    "```\n",
    "\n",
    "Reference consuming operations are: 0,2,3,7,8"
   ]
  },
  {
   "cell_type": "code",
   "execution_count": 126,
   "metadata": {
    "scrolled": true
   },
   "outputs": [],
   "source": [
    "# PacBio data\n",
    "# Count clips vs inserts at published IES junctions\n",
    "REFCONSUMING = [0,2,3,7,8] # Reference consuming BED operations\n",
    "margin = 10\n",
    "readcounts_pb = defaultdict(lambda: defaultdict(int))\n",
    "#for rec in iesmacbed.filter(lambda x: x.chrom == 'chr_023'):\n",
    "for rec in iesmacbed:\n",
    "    start = rec.start - margin\n",
    "    end = rec.start + margin\n",
    "    allreads = 0\n",
    "    for read in map_pb.fetch(rec.chrom, start, end):\n",
    "        # For each read mapping within margin of the IES\n",
    "        if not read.is_secondary and not read.is_supplementary:\n",
    "            allreads += 1\n",
    "            runcount = read.reference_start\n",
    "            longinsert = 0\n",
    "            clip = 0\n",
    "            for cigtup in read.cigartuples:\n",
    "                if runcount > end:\n",
    "                    # outside interval end\n",
    "                    break\n",
    "                elif runcount > start:\n",
    "                    # still within interval\n",
    "                    if cigtup[0] == 4:\n",
    "                        # if encounter clip, count and break\n",
    "                        readcounts_pb[rec.name]['clip'] += 1\n",
    "                        break\n",
    "                    elif cigtup[0] == 1 and cigtup[1] > 100:\n",
    "                        # if encounter long insert\n",
    "                        # count and break\n",
    "                        readcounts_pb[rec.name]['ins'] += 1\n",
    "                        break\n",
    "                if cigtup[0] in REFCONSUMING:\n",
    "                    runcount += cigtup[1]\n",
    "    readcounts_pb[rec.name]['tot'] = allreads"
   ]
  },
  {
   "cell_type": "code",
   "execution_count": 224,
   "metadata": {},
   "outputs": [],
   "source": [
    "# PacBio data\n",
    "# Convert to a data frame\n",
    "readcounts_pb_df = pd.DataFrame(readcounts_pb).transpose().fillna(0)\n",
    "# Add name\n",
    "readcounts_pb_df['ies'] = readcounts_pb_df.index\n",
    "# Mark which IESs also recovered by BleTIES\n",
    "readcounts_pb_df['recovered'] = [i in recovered_ies_pb for i in readcounts_pb_df['ies']]\n",
    "# Express number of clips or inserts as fraction of total reads mapped to site\n",
    "readcounts_pb_df['clip_ratio'] = readcounts_pb_df['clip']/readcounts_pb_df['tot']\n",
    "readcounts_pb_df['ins_ratio'] = readcounts_pb_df['ins']/readcounts_pb_df['tot']\n",
    "# Export to TSV\n",
    "readcounts_pb_df.to_csv(\"pacbio_clipcounts.tsv\", sep=\"\\t\", index=False)"
   ]
  },
  {
   "cell_type": "code",
   "execution_count": 225,
   "metadata": {},
   "outputs": [
    {
     "data": {
      "text/html": [
       "<div>\n",
       "<style scoped>\n",
       "    .dataframe tbody tr th:only-of-type {\n",
       "        vertical-align: middle;\n",
       "    }\n",
       "\n",
       "    .dataframe tbody tr th {\n",
       "        vertical-align: top;\n",
       "    }\n",
       "\n",
       "    .dataframe thead th {\n",
       "        text-align: right;\n",
       "    }\n",
       "</style>\n",
       "<table border=\"1\" class=\"dataframe\">\n",
       "  <thead>\n",
       "    <tr style=\"text-align: right;\">\n",
       "      <th></th>\n",
       "      <th>clip</th>\n",
       "      <th>tot</th>\n",
       "      <th>ins</th>\n",
       "      <th>ies</th>\n",
       "      <th>recovered</th>\n",
       "      <th>clip_ratio</th>\n",
       "      <th>ins_ratio</th>\n",
       "    </tr>\n",
       "  </thead>\n",
       "  <tbody>\n",
       "    <tr>\n",
       "      <th>IES-04625-r7</th>\n",
       "      <td>120.0</td>\n",
       "      <td>122.0</td>\n",
       "      <td>0.0</td>\n",
       "      <td>IES-04625-r7</td>\n",
       "      <td>False</td>\n",
       "      <td>0.983607</td>\n",
       "      <td>0.000000</td>\n",
       "    </tr>\n",
       "    <tr>\n",
       "      <th>IES-04624-r11</th>\n",
       "      <td>89.0</td>\n",
       "      <td>160.0</td>\n",
       "      <td>68.0</td>\n",
       "      <td>IES-04624-r11</td>\n",
       "      <td>True</td>\n",
       "      <td>0.556250</td>\n",
       "      <td>0.425000</td>\n",
       "    </tr>\n",
       "    <tr>\n",
       "      <th>IES-05548-r12</th>\n",
       "      <td>60.0</td>\n",
       "      <td>112.0</td>\n",
       "      <td>48.0</td>\n",
       "      <td>IES-05548-r12</td>\n",
       "      <td>True</td>\n",
       "      <td>0.535714</td>\n",
       "      <td>0.428571</td>\n",
       "    </tr>\n",
       "    <tr>\n",
       "      <th>IES-05549-r13</th>\n",
       "      <td>123.0</td>\n",
       "      <td>143.0</td>\n",
       "      <td>20.0</td>\n",
       "      <td>IES-05549-r13</td>\n",
       "      <td>True</td>\n",
       "      <td>0.860140</td>\n",
       "      <td>0.139860</td>\n",
       "    </tr>\n",
       "    <tr>\n",
       "      <th>IES-05550-r10</th>\n",
       "      <td>121.0</td>\n",
       "      <td>175.0</td>\n",
       "      <td>50.0</td>\n",
       "      <td>IES-05550-r10</td>\n",
       "      <td>True</td>\n",
       "      <td>0.691429</td>\n",
       "      <td>0.285714</td>\n",
       "    </tr>\n",
       "  </tbody>\n",
       "</table>\n",
       "</div>"
      ],
      "text/plain": [
       "                clip    tot   ins            ies  recovered  clip_ratio  \\\n",
       "IES-04625-r7   120.0  122.0   0.0   IES-04625-r7      False    0.983607   \n",
       "IES-04624-r11   89.0  160.0  68.0  IES-04624-r11       True    0.556250   \n",
       "IES-05548-r12   60.0  112.0  48.0  IES-05548-r12       True    0.535714   \n",
       "IES-05549-r13  123.0  143.0  20.0  IES-05549-r13       True    0.860140   \n",
       "IES-05550-r10  121.0  175.0  50.0  IES-05550-r10       True    0.691429   \n",
       "\n",
       "               ins_ratio  \n",
       "IES-04625-r7    0.000000  \n",
       "IES-04624-r11   0.425000  \n",
       "IES-05548-r12   0.428571  \n",
       "IES-05549-r13   0.139860  \n",
       "IES-05550-r10   0.285714  "
      ]
     },
     "execution_count": 225,
     "metadata": {},
     "output_type": "execute_result"
    }
   ],
   "source": [
    "readcounts_pb_df.head()"
   ]
  },
  {
   "cell_type": "code",
   "execution_count": 227,
   "metadata": {
    "scrolled": true
   },
   "outputs": [],
   "source": [
    "# Nanopore data\n",
    "# Count clips vs inserts at published IES junctions\n",
    "REFCONSUMING = [0,2,3,7,8] # Reference consuming BED operations\n",
    "margin = 10\n",
    "readcounts_ont = defaultdict(lambda: defaultdict(int))\n",
    "#for rec in iesmacbed.filter(lambda x: x.chrom == 'chr_023'):\n",
    "for rec in iesmacbed:\n",
    "    start = rec.start - margin\n",
    "    end = rec.start + margin\n",
    "    allreads = 0\n",
    "    for read in map_ont.fetch(rec.chrom, start, end):\n",
    "        # For each read mapping within margin of the IES\n",
    "        if not read.is_secondary and not read.is_supplementary:\n",
    "            allreads += 1\n",
    "            runcount = read.reference_start\n",
    "            longinsert = 0\n",
    "            clip = 0\n",
    "            for cigtup in read.cigartuples:\n",
    "                if runcount > end:\n",
    "                    # outside interval end\n",
    "                    break\n",
    "                elif runcount > start:\n",
    "                    # still within interval\n",
    "                    if cigtup[0] == 4:\n",
    "                        # if encounter clip, count and break\n",
    "                        readcounts_ont[rec.name]['clip'] += 1\n",
    "                        break\n",
    "                    elif cigtup[0] == 1 and cigtup[1] > 100:\n",
    "                        # if encounter long insert\n",
    "                        # count and break\n",
    "                        readcounts_ont[rec.name]['ins'] += 1\n",
    "                        break\n",
    "                if cigtup[0] in REFCONSUMING:\n",
    "                    runcount += cigtup[1]\n",
    "    readcounts_ont[rec.name]['tot'] = allreads"
   ]
  },
  {
   "cell_type": "code",
   "execution_count": 230,
   "metadata": {},
   "outputs": [],
   "source": [
    "# Nanopore data\n",
    "# Convert to a data frame\n",
    "readcounts_ont_df = pd.DataFrame(readcounts_ont).transpose().fillna(0)\n",
    "# Add name\n",
    "readcounts_ont_df['ies'] = readcounts_ont_df.index\n",
    "# Mark which IESs also recovered by BleTIES\n",
    "readcounts_ont_df['recovered'] = [i in recovered_ies_ont for i in readcounts_ont_df['ies']]\n",
    "# Express number of clips or inserts as fraction of total reads mapped to site\n",
    "readcounts_ont_df['clip_ratio'] = readcounts_ont_df['clip']/readcounts_ont_df['tot']\n",
    "readcounts_ont_df['ins_ratio'] = readcounts_ont_df['ins']/readcounts_ont_df['tot']\n",
    "# Export to TSV\n",
    "readcounts_ont_df.to_csv(\"nanopore_clipcounts.tsv\", sep=\"\\t\", index=False)"
   ]
  },
  {
   "cell_type": "markdown",
   "metadata": {},
   "source": [
    "## Plot clips vs. inserts for predicted vs. not-predicted IESs"
   ]
  },
  {
   "cell_type": "code",
   "execution_count": 269,
   "metadata": {},
   "outputs": [
    {
     "data": {
      "image/png": "[encoded data removed]",
      "text/plain": [
       "<Figure size 864x288 with 2 Axes>"
      ]
     },
     "metadata": {
      "needs_background": "light"
     },
     "output_type": "display_data"
    }
   ],
   "source": [
    "fig, axs = plt.subplots(1,2,figsize=(12,4), constrained_layout=True, sharey=True)\n",
    "fig.suptitle(\"Fraction of reads within 10 bp of IES junction with clips\")\n",
    "p1 = sns.histplot(\n",
    "    data=readcounts_pb_df[['ies','recovered','clip_ratio']],\n",
    "    x='clip_ratio',hue='recovered',multiple='dodge',\n",
    "    binwidth=0.025, linewidth=0, ax=axs[0]\n",
    ")\n",
    "p1.set_title(\"Compared with PacBio IES predictions\")\n",
    "p1.set_xlabel(\"Fraction of reads with clips\")\n",
    "p1.legend(title='In MILRAA PacBio predictions', labels=['True','False'])\n",
    "\n",
    "p2 = sns.histplot(\n",
    "    data=readcounts_ont_df[['ies','recovered','clip_ratio']],\n",
    "    x='clip_ratio',hue='recovered',multiple='dodge',\n",
    "    binwidth=0.025, linewidth=0, ax=axs[1]\n",
    ")\n",
    "p2.set_title(\"Compared with Nanopore IES predictions\")\n",
    "p2.set_xlabel(\"Fraction of reads with clips\")\n",
    "p2.legend(title='In MILRAA Nanopore predictions', labels=['True','False'])\n",
    "\n",
    "fig.savefig(\"plots/tthe_milraa_vs_published_ies_clip_ratio.png\")\n",
    "fig.savefig(\"plots/tthe_milraa_vs_published_ies_clip_ratio.pdf\")"
   ]
  },
  {
   "cell_type": "code",
   "execution_count": 270,
   "metadata": {},
   "outputs": [
    {
     "data": {
      "image/png": "[encoded data removed]",
      "text/plain": [
       "<Figure size 864x288 with 2 Axes>"
      ]
     },
     "metadata": {
      "needs_background": "light"
     },
     "output_type": "display_data"
    }
   ],
   "source": [
    "fig, axs = plt.subplots(1,2,figsize=(12,4), constrained_layout=True, sharey=True)\n",
    "fig.suptitle(\"Fraction of reads within 10 bp of IES junction with inserts > 100 bp\")\n",
    "p1 = sns.histplot(\n",
    "    data=readcounts_pb_df[['ies','recovered','ins_ratio']],\n",
    "    x='ins_ratio',hue='recovered',multiple='dodge',\n",
    "    binwidth=0.025, linewidth=0, ax=axs[0]\n",
    ")\n",
    "p1.set_title(\"Compared with PacBio IES predictions\")\n",
    "p1.set_xlabel(\"Fraction of reads with inserts\")\n",
    "p1.legend(title='In MILRAA PacBio predictions', labels=['True','False'])\n",
    "\n",
    "p2 = sns.histplot(\n",
    "    data=readcounts_ont_df[['ies','recovered','ins_ratio']],\n",
    "    x='ins_ratio',hue='recovered',multiple='dodge',\n",
    "    binwidth=0.025, linewidth=0, ax=axs[1]\n",
    ")\n",
    "p2.set_title(\"Compared with Nanopore IES predictions\")\n",
    "p2.set_xlabel(\"Fraction of reads with inserts\")\n",
    "p2.legend(title='In MILRAA Nanopore predictions', labels=['True','False'])\n",
    "\n",
    "fig.savefig(\"plots/tthe_milraa_vs_published_ies_ins_ratio.png\")\n",
    "fig.savefig(\"plots/tthe_milraa_vs_published_ies_ins_ratio.pdf\")"
   ]
  }
 ],
 "metadata": {
  "kernelspec": {
   "display_name": "Python [conda env:bio-env]",
   "language": "python",
   "name": "conda-env-bio-env-py"
  },
  "language_info": {
   "codemirror_mode": {
    "name": "ipython",
    "version": 3
   },
   "file_extension": ".py",
   "mimetype": "text/x-python",
   "name": "python",
   "nbconvert_exporter": "python",
   "pygments_lexer": "ipython3",
   "version": "3.7.3"
  }
 },
 "nbformat": 4,
 "nbformat_minor": 2
}
